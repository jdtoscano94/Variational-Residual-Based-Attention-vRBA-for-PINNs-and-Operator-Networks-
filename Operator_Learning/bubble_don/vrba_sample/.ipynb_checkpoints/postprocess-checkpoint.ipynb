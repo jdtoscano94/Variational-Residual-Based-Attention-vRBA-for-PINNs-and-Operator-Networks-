{
 "cells": [
  {
   "cell_type": "code",
   "execution_count": 1,
   "id": "0b833639-0288-4492-95d0-be410d18c848",
   "metadata": {},
   "outputs": [
    {
     "name": "stdout",
     "output_type": "stream",
     "text": [
      "Using device: cuda\n"
     ]
    }
   ],
   "source": [
    "import os\n",
    "import sys\n",
    "\n",
    "import math\n",
    "import time\n",
    "import datetime\n",
    "import numpy as np\n",
    "from numpy.lib.stride_tricks import sliding_window_view\n",
    "import torch\n",
    "from torch.utils.data import Dataset\n",
    "import torch.nn as nn\n",
    "import torch.optim as optim\n",
    "from torch.utils.data import DataLoader, random_split\n",
    "from torch.optim.lr_scheduler import CosineAnnealingLR\n",
    "from don import DeepONet\n",
    "from scipy.interpolate import interp1d\n",
    "from torchsummary import summary\n",
    "\n",
    "# from YourDataset import YourDataset  # Import your custom dataset here\n",
    "from tqdm import tqdm\n",
    "from torch.cuda.amp import autocast, GradScaler\n",
    "\n",
    "import pickle\n",
    "\n",
    "scaler = GradScaler()\n",
    "\n",
    "device = torch.device(\"cuda\" if torch.cuda.is_available() else \"cpu\")\n",
    "print(\"Using device:\", device)"
   ]
  },
  {
   "cell_type": "code",
   "execution_count": 2,
   "id": "7c9c249e-8d74-4cc6-9f5c-f326e88202fa",
   "metadata": {},
   "outputs": [],
   "source": [
    "# Define your custom loss function here\n",
    "class CustomLoss(nn.Module):\n",
    "    def __init__(self):\n",
    "        super(CustomLoss, self).__init__()\n",
    "\n",
    "    def forward(self, y_pred, y_true, Par):\n",
    "        # Implement your custom loss calculation here\n",
    "        # loss = torch.mean((y_pred - y_true) ** 2)  # Example: Mean Squared Error\n",
    "        # y_true = (y_true - Par['out_shift'])/Par['out_scale']\n",
    "        # y_pred = (y_pred - Par['out_shift'])/Par['out_scale']\n",
    "        loss = torch.norm(y_true-y_pred, p=2)/torch.norm(y_true, p=2)\n",
    "        # loss = torch.mean(torch.square(y_true-y_pred))\n",
    "        return loss\n",
    "\n",
    "class YourDataset(Dataset):\n",
    "    def __init__(self, x, y, transform=None):\n",
    "        self.x = x\n",
    "        self.y = y\n",
    "        self.transform = transform\n",
    "\n",
    "    def __len__(self):\n",
    "        return len(self.x)\n",
    "\n",
    "    def __getitem__(self, idx):\n",
    "        x_sample = self.x[idx]\n",
    "        y_sample = self.y[idx]\n",
    "\n",
    "        if self.transform:\n",
    "            x_sample, y_sample = self.transform(x_sample, y_sample)\n",
    "\n",
    "        return x_sample, y_sample\n",
    "\n",
    "\n",
    "def preprocess(X_func, X_loc, y, Par):\n",
    "    X_func = (X_func - Par['X_func_shift'])/Par['X_func_scale']\n",
    "    X_loc  = (X_loc - Par['X_loc_shift'])/Par['X_loc_scale']\n",
    "    y      = (y - Par['out_shift'])/(Par['out_scale'])\n",
    "    print('X_func: ', X_func.shape)\n",
    "    print('X_loc : ', X_loc.shape)\n",
    "    print('y     : ', y.shape)\n",
    "\n",
    "    return X_func, X_loc, y\n",
    "\n",
    "    \n",
    "def data_prep(dataset, m, npoints_output):\n",
    "    p = dataset['del_p']\n",
    "    t = dataset['t']\n",
    "    r = dataset['R']\n",
    "\n",
    "    P = interp1d(t, p, kind='cubic')\n",
    "    R = interp1d(t, r, kind='cubic')\n",
    "\n",
    "    t_min = 0\n",
    "    t_max = 5 * 10**-4\n",
    "\n",
    "    X_func = P(np.linspace(t_min, t_max, m)) #[1500, m] \n",
    "    X_loc  = np.linspace(t_min, t_max, npoints_output)[:, None] #[npoints_output,1]\n",
    "    y      = R(np.ravel(X_loc)) #[1500, npoints_output] \n",
    "\n",
    "    return X_func, X_loc, y\n"
   ]
  },
  {
   "cell_type": "code",
   "execution_count": 3,
   "id": "a16f8ddc-3e7e-472d-a8bb-f3c15b2cb356",
   "metadata": {},
   "outputs": [
    {
     "name": "stdout",
     "output_type": "stream",
     "text": [
      "\n",
      "Train Dataset\n",
      "X_func:  (1200, 200)\n",
      "X_loc :  (500, 1)\n",
      "y     :  (1200, 500)\n",
      "\n",
      "Validation Dataset\n",
      "X_func:  (150, 200)\n",
      "X_loc :  (500, 1)\n",
      "y     :  (150, 500)\n",
      "\n",
      "Test Dataset\n",
      "X_func:  (150, 200)\n",
      "X_loc :  (500, 1)\n",
      "y     :  (150, 500)\n",
      "Par:\n",
      " {'bn_res': 200, 'tn_res': 1, 'ld': 100, 'X_func_shift': -1485.538476351167, 'X_func_scale': 340.1185777695776, 'X_loc_shift': 0.0, 'X_loc_scale': 0.0005, 'out_shift': 1.0744879013817246e-05, 'out_scale': 1.9361471092413482e-07, 'num_epochs': 10000}\n"
     ]
    }
   ],
   "source": [
    "# Load your data into NumPy arrays (x_train, t_train, y_train, x_val, t_val, y_val, x_test, t_test, y_test)\n",
    "#########################\n",
    "\n",
    "debug = False\n",
    "\n",
    "dataset = np.load('../data/0.1/res_1000.npz')\n",
    "\n",
    "m = 200\n",
    "npoints_output = 500\n",
    "\n",
    "X_func, X_loc, y = data_prep(dataset, m, npoints_output) \n",
    "\n",
    "idx1 = int(0.8*X_func.shape[0])\n",
    "idx2 = int(0.9*X_func.shape[0])\n",
    "\n",
    "X_func_train = X_func[:idx1]\n",
    "X_func_val   = X_func[idx1:idx2]\n",
    "X_func_test  = X_func[idx2:]\n",
    "\n",
    "X_loc_train = X_loc\n",
    "X_loc_val   = X_loc \n",
    "X_loc_test  = X_loc\n",
    "\n",
    "y_train = y[:idx1]\n",
    "y_val   = y[idx1:idx2]\n",
    "y_test  = y[idx2:]\n",
    "\n",
    "Par = {\n",
    "       'bn_res'        : X_func_train.shape[1],\n",
    "       'tn_res'        : X_loc_train.shape[1],\n",
    "       'ld'            : 100,   \n",
    "       'X_func_shift'  : np.mean(X_func_train),\n",
    "       'X_func_scale'  : np.std(X_func_train),\n",
    "       'X_loc_shift'   : np.min(X_loc_train),\n",
    "       'X_loc_scale'   : np.max(X_loc_train)-np.min(X_loc_train),\n",
    "       'out_shift'     : np.mean(y_train),\n",
    "       'out_scale'     : np.std(y_train)\n",
    "       }\n",
    "\n",
    "\n",
    "\n",
    "if debug:\n",
    "    Par['num_epochs']  = 5\n",
    "else:\n",
    "    Par['num_epochs']  = 10000\n",
    "\n",
    "print('\\nTrain Dataset')\n",
    "X_func_train, X_loc_train, y_train = preprocess(X_func_train, X_loc_train, y_train, Par)\n",
    "print('\\nValidation Dataset')\n",
    "X_func_val, X_loc_val, y_val = preprocess(X_func_val, X_loc_val, y_val, Par)\n",
    "print('\\nTest Dataset')\n",
    "X_func_test, X_loc_test, y_test = preprocess(X_func_test, X_loc_test, y_test, Par)\n",
    "\n",
    "print('Par:\\n', Par)\n",
    "\n",
    "with open('Par.pkl', 'wb') as f:\n",
    "    pickle.dump(Par, f)\n",
    "\n",
    "# sys.exit()\n",
    "#########################\n",
    "\n",
    "# Create custom datasets\n",
    "X_func_train_tensor = torch.tensor(X_func_train, dtype=torch.float32)\n",
    "X_loc_train_tensor = torch.tensor(X_loc_train, dtype=torch.float32)\n",
    "y_train_tensor = torch.tensor(y_train, dtype=torch.float32)\n",
    "\n",
    "X_func_val_tensor = torch.tensor(X_func_val, dtype=torch.float32)\n",
    "X_loc_val_tensor = torch.tensor(X_loc_val, dtype=torch.float32)\n",
    "y_val_tensor   = torch.tensor(y_val,   dtype=torch.float32)\n",
    "\n",
    "X_func_test_tensor = torch.tensor(X_func_test, dtype=torch.float32)\n",
    "X_loc_test_tensor = torch.tensor(X_loc_test, dtype=torch.float32)\n",
    "y_test_tensor  = torch.tensor(y_test,  dtype=torch.float32)\n",
    "\n",
    "train_dataset = YourDataset(X_func_train_tensor, y_train_tensor)\n",
    "val_dataset = YourDataset(X_func_val_tensor, y_val_tensor)\n",
    "test_dataset = YourDataset(X_func_test_tensor, y_test_tensor)\n",
    "\n",
    "# Define data loaders\n",
    "train_batch_size = 50\n",
    "val_batch_size   = 50\n",
    "test_batch_size  = 50\n",
    "train_loader = DataLoader(train_dataset, batch_size=train_batch_size)\n",
    "val_loader = DataLoader(val_dataset, batch_size=val_batch_size)\n",
    "test_loader = DataLoader(test_dataset, batch_size=test_batch_size)"
   ]
  },
  {
   "cell_type": "markdown",
   "id": "5121c949-bc46-4666-81df-d5388bb24074",
   "metadata": {},
   "source": [
    "# Loading the model"
   ]
  },
  {
   "cell_type": "code",
   "execution_count": 4,
   "id": "fad88d6d-6b19-4fdb-96d7-cfe848585cb5",
   "metadata": {},
   "outputs": [
    {
     "name": "stdout",
     "output_type": "stream",
     "text": [
      "----------------------------------------------------------------\n",
      "        Layer (type)               Output Shape         Param #\n",
      "================================================================\n",
      "            Linear-1                  [-1, 100]          20,100\n",
      "              GELU-2                  [-1, 100]               0\n",
      "            Linear-3                  [-1, 100]          10,100\n",
      "              GELU-4                  [-1, 100]               0\n",
      "            Linear-5                  [-1, 100]          10,100\n",
      "              GELU-6                  [-1, 100]               0\n",
      "            Linear-7                  [-1, 100]          10,100\n",
      "              GELU-8                  [-1, 100]               0\n",
      "            Linear-9                  [-1, 100]          10,100\n",
      "           Linear-10                  [-1, 100]             200\n",
      "             GELU-11                  [-1, 100]               0\n",
      "           Linear-12                  [-1, 100]          10,100\n",
      "             GELU-13                  [-1, 100]               0\n",
      "           Linear-14                  [-1, 100]          10,100\n",
      "             GELU-15                  [-1, 100]               0\n",
      "           Linear-16                  [-1, 100]          10,100\n",
      "             GELU-17                  [-1, 100]               0\n",
      "           Linear-18                  [-1, 100]          10,100\n",
      "================================================================\n",
      "Total params: 101,100\n",
      "Trainable params: 101,100\n",
      "Non-trainable params: 0\n",
      "----------------------------------------------------------------\n",
      "Input size (MB): 0.00\n",
      "Forward/backward pass size (MB): 0.01\n",
      "Params size (MB): 0.39\n",
      "Estimated Total Size (MB): 0.40\n",
      "----------------------------------------------------------------\n",
      "Loading model ...\n"
     ]
    }
   ],
   "source": [
    "# Initialize your Unet2D model\n",
    "model = DeepONet(Par).to(device).to(torch.float32)\n",
    "summary(model, input_size=[X_func_train.shape[1:], X_loc_train.shape[1:]], device='cuda' if torch.cuda.is_available() else 'cpu')\n",
    "\n",
    "print('Loading model ...')\n",
    "path_model = 'models/best_model.pt'\n",
    "model.load_state_dict(torch.load(path_model))\n",
    "\n",
    "# Define loss function and optimizer\n",
    "criterion = CustomLoss()\n",
    "optimizer = optim.Adam(model.parameters(), lr=1e-3, weight_decay=1e-4)"
   ]
  },
  {
   "cell_type": "markdown",
   "id": "d242f9ec-0947-40b5-b130-3f3e9be5b2c6",
   "metadata": {},
   "source": [
    "# Sanity Check"
   ]
  },
  {
   "cell_type": "code",
   "execution_count": 5,
   "id": "bd837999-77e4-4b68-bb22-febf146bc8a7",
   "metadata": {},
   "outputs": [
    {
     "name": "stdout",
     "output_type": "stream",
     "text": [
      "Val Loss: 1.5698e-02\n"
     ]
    }
   ],
   "source": [
    "# Testing loop\n",
    "model.eval()\n",
    "test_loss = 0.0\n",
    "with torch.no_grad():\n",
    "    for x, y_true in val_loader:\n",
    "        with autocast():\n",
    "            y_pred = model(x.to(device), X_loc_val_tensor.to(device))\n",
    "            loss = criterion(y_pred, y_true.to(device), Par).item() \n",
    "        test_loss += loss \n",
    "test_loss /= len(test_loader)\n",
    "print(f'Val Loss: {test_loss:.4e}')"
   ]
  },
  {
   "cell_type": "code",
   "execution_count": 6,
   "id": "c0303665-3e91-42b6-9623-4079e922001a",
   "metadata": {},
   "outputs": [
    {
     "name": "stdout",
     "output_type": "stream",
     "text": [
      "Test Loss: 1.5123e-02\n",
      "true:  torch.Size([150, 500])\n",
      "pred:  torch.Size([150, 500])\n"
     ]
    }
   ],
   "source": [
    "y_true_ls = []\n",
    "y_pred_ls = []\n",
    "\n",
    "# Testing loop\n",
    "model.eval()\n",
    "test_loss = 0.0\n",
    "with torch.no_grad():\n",
    "    for x, y_true in test_loader:\n",
    "        with autocast():\n",
    "            y_pred = model(x.to(device), X_loc_test_tensor.to(device))\n",
    "            loss = criterion(y_pred, y_true.to(device), Par).item() \n",
    "        y_true_ls.append(y_true)\n",
    "        y_pred_ls.append(y_pred)\n",
    "        test_loss += loss \n",
    "test_loss /= len(test_loader)\n",
    "print(f'Test Loss: {test_loss:.4e}')\n",
    "\n",
    "Y_TRUE = torch.cat(y_true_ls, axis=0)\n",
    "Y_PRED = torch.cat(y_pred_ls, axis=0)\n",
    "\n",
    "print('true: ', Y_TRUE.shape)\n",
    "print('pred: ', Y_PRED.shape)"
   ]
  },
  {
   "cell_type": "markdown",
   "id": "78870741-424c-47f0-b24f-9b9e6986e3f4",
   "metadata": {},
   "source": [
    "# Visualization"
   ]
  },
  {
   "cell_type": "code",
   "execution_count": 7,
   "id": "7dae73a7-c0cc-4add-a9b1-8a115eec794b",
   "metadata": {},
   "outputs": [],
   "source": [
    "import matplotlib.pyplot as plt"
   ]
  },
  {
   "cell_type": "code",
   "execution_count": 8,
   "id": "67d6b890-b616-4a22-a48c-d1943e332748",
   "metadata": {},
   "outputs": [],
   "source": [
    "Y_TRUE = Y_TRUE.detach().cpu().numpy()\n",
    "Y_PRED = Y_PRED.detach().cpu().numpy()"
   ]
  },
  {
   "cell_type": "code",
   "execution_count": 9,
   "id": "b5930f5f-a9cf-4d1a-85b3-f37cccae4e56",
   "metadata": {},
   "outputs": [
    {
     "data": {
      "image/png": "[encoded data removed]",
      "text/plain": [
       "<Figure size 640x480 with 1 Axes>"
      ]
     },
     "metadata": {},
     "output_type": "display_data"
    }
   ],
   "source": [
    "idx = 1\n",
    "\n",
    "time = X_loc_test[:,0]\n",
    "\n",
    "plt.plot(time, Y_TRUE[idx])\n",
    "plt.plot(time, Y_PRED[idx])\n",
    "plt.plot(time, Y_TRUE[idx+1])\n",
    "plt.plot(time, Y_PRED[idx+1])\n",
    "plt.show()"
   ]
  }
 ],
 "metadata": {
  "kernelspec": {
   "display_name": "torch_env",
   "language": "python",
   "name": "torch_env"
  },
  "language_info": {
   "codemirror_mode": {
    "name": "ipython",
    "version": 3
   },
   "file_extension": ".py",
   "mimetype": "text/x-python",
   "name": "python",
   "nbconvert_exporter": "python",
   "pygments_lexer": "ipython3",
   "version": "3.9.16"
  }
 },
 "nbformat": 4,
 "nbformat_minor": 5
}
